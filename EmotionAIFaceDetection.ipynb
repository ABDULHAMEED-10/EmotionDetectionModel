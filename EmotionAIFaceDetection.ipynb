{
  "cells": [
    {
      "cell_type": "markdown",
      "metadata": {
        "id": "view-in-github",
        "colab_type": "text"
      },
      "source": [
        "<a href=\"https://colab.research.google.com/github/ABDULHAMEED-10/EmotionDetectionModel/blob/main/EmotionAIFaceDetection.ipynb\" target=\"_parent\"><img src=\"https://colab.research.google.com/assets/colab-badge.svg\" alt=\"Open In Colab\"/></a>"
      ]
    },
    {
      "cell_type": "code",
      "execution_count": 28,
      "metadata": {
        "id": "129KzFJ8r0LU"
      },
      "outputs": [],
      "source": [
        "import zipfile\n",
        "import os"
      ]
    },
    {
      "cell_type": "code",
      "execution_count": 29,
      "metadata": {
        "id": "YBuxjjRdvX3w"
      },
      "outputs": [],
      "source": [
        "zip_path = '/content/drive/MyDrive/data.zip'  # Path to your uploaded zip file\n",
        "extract_path = '/content/dataset'  # Destination folder for extraction"
      ]
    },
    {
      "cell_type": "code",
      "execution_count": 30,
      "metadata": {
        "id": "aYTtwBaVvlhq"
      },
      "outputs": [],
      "source": [
        "# Create a folder to extract the contents of the zip file\n",
        "os.makedirs(extract_path, exist_ok=True)"
      ]
    },
    {
      "cell_type": "code",
      "execution_count": 31,
      "metadata": {
        "id": "ZruzHPKuvv3j"
      },
      "outputs": [],
      "source": [
        "# Extract the contents of the zip file\n",
        "with zipfile.ZipFile(zip_path, 'r') as zip_ref:\n",
        "    zip_ref.extractall(extract_path)"
      ]
    },
    {
      "cell_type": "code",
      "execution_count": 32,
      "metadata": {
        "id": "7qf8i2dMn8zy"
      },
      "outputs": [],
      "source": [
        "import cv2\n",
        "import tensorflow as tf\n",
        "import tensorflow\n",
        "from keras.models import Sequential\n",
        "from keras.layers import Conv2D, MaxPooling2D, Dense, Dropout, Flatten\n",
        "from keras.optimizers import Adam\n",
        "from keras.preprocessing.image import ImageDataGenerator\n",
        "import numpy as np\n",
        "from keras.models import model_from_json\n",
        "from google.colab.patches import cv2_imshow\n"
      ]
    },
    {
      "cell_type": "code",
      "execution_count": 33,
      "metadata": {
        "id": "K4cWXv1Qsf5K"
      },
      "outputs": [],
      "source": [
        "# Initialize image data generator with rescaling\n",
        "train_data_gen = ImageDataGenerator(rescale=1./255)\n",
        "validation_data_gen = ImageDataGenerator(rescale=1./255)"
      ]
    },
    {
      "cell_type": "code",
      "execution_count": 34,
      "metadata": {
        "colab": {
          "base_uri": "https://localhost:8080/"
        },
        "id": "ujs6kQDiwNSR",
        "outputId": "abd17775-1ae5-426b-cc6c-10bd6c5d05d0"
      },
      "outputs": [
        {
          "output_type": "stream",
          "name": "stdout",
          "text": [
            "Found 28709 images belonging to 7 classes.\n"
          ]
        }
      ],
      "source": [
        "# Preprocess all test images\n",
        "train_generator = train_data_gen.flow_from_directory(\n",
        "        '/content/dataset/train',\n",
        "        target_size=(48, 48),\n",
        "        batch_size=64,\n",
        "        color_mode=\"grayscale\",\n",
        "        class_mode='categorical')"
      ]
    },
    {
      "cell_type": "code",
      "execution_count": 35,
      "metadata": {
        "colab": {
          "base_uri": "https://localhost:8080/"
        },
        "id": "FXzXbI9MwQq7",
        "outputId": "6d01aac9-a1dc-4b30-d03c-de90a8961ab5"
      },
      "outputs": [
        {
          "output_type": "stream",
          "name": "stdout",
          "text": [
            "Found 7178 images belonging to 7 classes.\n"
          ]
        }
      ],
      "source": [
        "# Preprocess all train images\n",
        "validation_generator = validation_data_gen.flow_from_directory(\n",
        "        '/content/dataset/test',\n",
        "        target_size=(48, 48),\n",
        "        batch_size=64,\n",
        "        color_mode=\"grayscale\",\n",
        "        class_mode='categorical')"
      ]
    },
    {
      "cell_type": "code",
      "execution_count": 36,
      "metadata": {
        "id": "d5YR7x_awQnn"
      },
      "outputs": [],
      "source": [
        "# create model structure\n",
        "emotion_model = Sequential()\n",
        "\n",
        "emotion_model.add(Conv2D(32, kernel_size=(3, 3), activation='relu', input_shape=(48, 48, 1)))\n",
        "emotion_model.add(Conv2D(64, kernel_size=(3, 3), activation='relu'))\n",
        "emotion_model.add(MaxPooling2D(pool_size=(2, 2)))\n",
        "emotion_model.add(Dropout(0.25))\n",
        "\n",
        "emotion_model.add(Conv2D(128, kernel_size=(3, 3), activation='relu'))\n",
        "emotion_model.add(MaxPooling2D(pool_size=(2, 2)))\n",
        "emotion_model.add(Conv2D(128, kernel_size=(3, 3), activation='relu'))\n",
        "emotion_model.add(MaxPooling2D(pool_size=(2, 2)))\n",
        "emotion_model.add(Dropout(0.25))\n",
        "\n",
        "emotion_model.add(Flatten())\n",
        "emotion_model.add(Dense(1024, activation='relu'))\n",
        "emotion_model.add(Dropout(0.5))\n",
        "emotion_model.add(Dense(7, activation='softmax'))\n",
        "\n",
        "cv2.ocl.setUseOpenCL(False)\n",
        "\n",
        "emotion_model.compile(loss='categorical_crossentropy', optimizer=tensorflow.keras.optimizers.legacy.Adam(learning_rate=0.0001, decay=1e-6), metrics=['accuracy'])"
      ]
    },
    {
      "cell_type": "code",
      "source": [],
      "metadata": {
        "id": "xZragy1JZrFv"
      },
      "execution_count": 36,
      "outputs": []
    },
    {
      "cell_type": "code",
      "execution_count": 37,
      "metadata": {
        "colab": {
          "base_uri": "https://localhost:8080/"
        },
        "id": "NXOd8IbiwZOy",
        "outputId": "3ae6f298-ce24-4246-a9d8-f36936f39416"
      },
      "outputs": [
        {
          "output_type": "stream",
          "name": "stdout",
          "text": [
            "Epoch 1/50\n",
            "448/448 [==============================] - 17s 36ms/step - loss: 1.8009 - accuracy: 0.2592 - val_loss: 1.7159 - val_accuracy: 0.3396\n",
            "Epoch 2/50\n",
            "448/448 [==============================] - 15s 33ms/step - loss: 1.6299 - accuracy: 0.3651 - val_loss: 1.5485 - val_accuracy: 0.4106\n",
            "Epoch 3/50\n",
            "448/448 [==============================] - 15s 33ms/step - loss: 1.5362 - accuracy: 0.4099 - val_loss: 1.4807 - val_accuracy: 0.4268\n",
            "Epoch 4/50\n",
            "448/448 [==============================] - 15s 33ms/step - loss: 1.4627 - accuracy: 0.4374 - val_loss: 1.4107 - val_accuracy: 0.4583\n",
            "Epoch 5/50\n",
            "448/448 [==============================] - 15s 34ms/step - loss: 1.4000 - accuracy: 0.4674 - val_loss: 1.3484 - val_accuracy: 0.4900\n",
            "Epoch 6/50\n",
            "448/448 [==============================] - 15s 33ms/step - loss: 1.3493 - accuracy: 0.4882 - val_loss: 1.3205 - val_accuracy: 0.5022\n",
            "Epoch 7/50\n",
            "448/448 [==============================] - 15s 33ms/step - loss: 1.3040 - accuracy: 0.5029 - val_loss: 1.2770 - val_accuracy: 0.5128\n",
            "Epoch 8/50\n",
            "448/448 [==============================] - 15s 33ms/step - loss: 1.2631 - accuracy: 0.5249 - val_loss: 1.2510 - val_accuracy: 0.5186\n",
            "Epoch 9/50\n",
            "448/448 [==============================] - 15s 34ms/step - loss: 1.2272 - accuracy: 0.5384 - val_loss: 1.2214 - val_accuracy: 0.5339\n",
            "Epoch 10/50\n",
            "448/448 [==============================] - 15s 33ms/step - loss: 1.2039 - accuracy: 0.5475 - val_loss: 1.2044 - val_accuracy: 0.5417\n",
            "Epoch 11/50\n",
            "448/448 [==============================] - 15s 33ms/step - loss: 1.1741 - accuracy: 0.5580 - val_loss: 1.1802 - val_accuracy: 0.5499\n",
            "Epoch 12/50\n",
            "448/448 [==============================] - 15s 33ms/step - loss: 1.1475 - accuracy: 0.5700 - val_loss: 1.1717 - val_accuracy: 0.5568\n",
            "Epoch 13/50\n",
            "448/448 [==============================] - 16s 37ms/step - loss: 1.1225 - accuracy: 0.5788 - val_loss: 1.1497 - val_accuracy: 0.5646\n",
            "Epoch 14/50\n",
            "448/448 [==============================] - 15s 33ms/step - loss: 1.0964 - accuracy: 0.5882 - val_loss: 1.1377 - val_accuracy: 0.5693\n",
            "Epoch 15/50\n",
            "448/448 [==============================] - 15s 34ms/step - loss: 1.0766 - accuracy: 0.6000 - val_loss: 1.1228 - val_accuracy: 0.5765\n",
            "Epoch 16/50\n",
            "448/448 [==============================] - 15s 33ms/step - loss: 1.0558 - accuracy: 0.6088 - val_loss: 1.1156 - val_accuracy: 0.5780\n",
            "Epoch 17/50\n",
            "448/448 [==============================] - 15s 33ms/step - loss: 1.0306 - accuracy: 0.6179 - val_loss: 1.1170 - val_accuracy: 0.5765\n",
            "Epoch 18/50\n",
            "448/448 [==============================] - 16s 37ms/step - loss: 1.0068 - accuracy: 0.6264 - val_loss: 1.1027 - val_accuracy: 0.5816\n",
            "Epoch 19/50\n",
            "448/448 [==============================] - 15s 32ms/step - loss: 0.9888 - accuracy: 0.6335 - val_loss: 1.0979 - val_accuracy: 0.5897\n",
            "Epoch 20/50\n",
            "448/448 [==============================] - 16s 37ms/step - loss: 0.9652 - accuracy: 0.6394 - val_loss: 1.1012 - val_accuracy: 0.5875\n",
            "Epoch 21/50\n",
            "448/448 [==============================] - 15s 33ms/step - loss: 0.9482 - accuracy: 0.6521 - val_loss: 1.0906 - val_accuracy: 0.5953\n",
            "Epoch 22/50\n",
            "448/448 [==============================] - 15s 33ms/step - loss: 0.9235 - accuracy: 0.6581 - val_loss: 1.0773 - val_accuracy: 0.5977\n",
            "Epoch 23/50\n",
            "448/448 [==============================] - 17s 38ms/step - loss: 0.9037 - accuracy: 0.6673 - val_loss: 1.0823 - val_accuracy: 0.5977\n",
            "Epoch 24/50\n",
            "448/448 [==============================] - 15s 33ms/step - loss: 0.8777 - accuracy: 0.6772 - val_loss: 1.0758 - val_accuracy: 0.6038\n",
            "Epoch 25/50\n",
            "448/448 [==============================] - 15s 33ms/step - loss: 0.8583 - accuracy: 0.6825 - val_loss: 1.0704 - val_accuracy: 0.6059\n",
            "Epoch 26/50\n",
            "448/448 [==============================] - 15s 33ms/step - loss: 0.8379 - accuracy: 0.6923 - val_loss: 1.0726 - val_accuracy: 0.6025\n",
            "Epoch 27/50\n",
            "448/448 [==============================] - 15s 33ms/step - loss: 0.8216 - accuracy: 0.6961 - val_loss: 1.0723 - val_accuracy: 0.6073\n",
            "Epoch 28/50\n",
            "448/448 [==============================] - 15s 33ms/step - loss: 0.8013 - accuracy: 0.7071 - val_loss: 1.0641 - val_accuracy: 0.6102\n",
            "Epoch 29/50\n",
            "448/448 [==============================] - 15s 34ms/step - loss: 0.7752 - accuracy: 0.7174 - val_loss: 1.0673 - val_accuracy: 0.6164\n",
            "Epoch 30/50\n",
            "448/448 [==============================] - 15s 33ms/step - loss: 0.7560 - accuracy: 0.7251 - val_loss: 1.0718 - val_accuracy: 0.6085\n",
            "Epoch 31/50\n",
            "448/448 [==============================] - 15s 34ms/step - loss: 0.7349 - accuracy: 0.7304 - val_loss: 1.0710 - val_accuracy: 0.6180\n",
            "Epoch 32/50\n",
            "448/448 [==============================] - 15s 33ms/step - loss: 0.7052 - accuracy: 0.7451 - val_loss: 1.0675 - val_accuracy: 0.6193\n",
            "Epoch 33/50\n",
            "448/448 [==============================] - 15s 33ms/step - loss: 0.6898 - accuracy: 0.7482 - val_loss: 1.0805 - val_accuracy: 0.6186\n",
            "Epoch 34/50\n",
            "448/448 [==============================] - 15s 33ms/step - loss: 0.6736 - accuracy: 0.7540 - val_loss: 1.0697 - val_accuracy: 0.6187\n",
            "Epoch 35/50\n",
            "448/448 [==============================] - 15s 33ms/step - loss: 0.6428 - accuracy: 0.7665 - val_loss: 1.0901 - val_accuracy: 0.6141\n",
            "Epoch 36/50\n",
            "448/448 [==============================] - 15s 33ms/step - loss: 0.6244 - accuracy: 0.7726 - val_loss: 1.0846 - val_accuracy: 0.6191\n",
            "Epoch 37/50\n",
            "448/448 [==============================] - 15s 34ms/step - loss: 0.6088 - accuracy: 0.7768 - val_loss: 1.0936 - val_accuracy: 0.6208\n",
            "Epoch 38/50\n",
            "448/448 [==============================] - 15s 33ms/step - loss: 0.5902 - accuracy: 0.7853 - val_loss: 1.0963 - val_accuracy: 0.6215\n",
            "Epoch 39/50\n",
            "448/448 [==============================] - 15s 34ms/step - loss: 0.5781 - accuracy: 0.7919 - val_loss: 1.0818 - val_accuracy: 0.6246\n",
            "Epoch 40/50\n",
            "448/448 [==============================] - 15s 33ms/step - loss: 0.5565 - accuracy: 0.7986 - val_loss: 1.1209 - val_accuracy: 0.6246\n",
            "Epoch 41/50\n",
            "448/448 [==============================] - 15s 34ms/step - loss: 0.5391 - accuracy: 0.8058 - val_loss: 1.0970 - val_accuracy: 0.6201\n",
            "Epoch 42/50\n",
            "448/448 [==============================] - 15s 33ms/step - loss: 0.5221 - accuracy: 0.8104 - val_loss: 1.1154 - val_accuracy: 0.6232\n",
            "Epoch 43/50\n",
            "448/448 [==============================] - 17s 37ms/step - loss: 0.5081 - accuracy: 0.8138 - val_loss: 1.1243 - val_accuracy: 0.6277\n",
            "Epoch 44/50\n",
            "448/448 [==============================] - 17s 38ms/step - loss: 0.4895 - accuracy: 0.8245 - val_loss: 1.1456 - val_accuracy: 0.6232\n",
            "Epoch 45/50\n",
            "448/448 [==============================] - 15s 34ms/step - loss: 0.4783 - accuracy: 0.8268 - val_loss: 1.1298 - val_accuracy: 0.6244\n",
            "Epoch 46/50\n",
            "448/448 [==============================] - 15s 34ms/step - loss: 0.4600 - accuracy: 0.8357 - val_loss: 1.1735 - val_accuracy: 0.6233\n",
            "Epoch 47/50\n",
            "448/448 [==============================] - 15s 34ms/step - loss: 0.4506 - accuracy: 0.8363 - val_loss: 1.1683 - val_accuracy: 0.6214\n",
            "Epoch 48/50\n",
            "448/448 [==============================] - 15s 34ms/step - loss: 0.4300 - accuracy: 0.8436 - val_loss: 1.1603 - val_accuracy: 0.6235\n",
            "Epoch 49/50\n",
            "448/448 [==============================] - 14s 32ms/step - loss: 0.4235 - accuracy: 0.8435 - val_loss: 1.1746 - val_accuracy: 0.6205\n",
            "Epoch 50/50\n",
            "448/448 [==============================] - 15s 32ms/step - loss: 0.4085 - accuracy: 0.8512 - val_loss: 1.1763 - val_accuracy: 0.6299\n"
          ]
        }
      ],
      "source": [
        "# Train the neural network/model\n",
        "emotion_model_info = emotion_model.fit(\n",
        "        train_generator,\n",
        "        steps_per_epoch=28709 // 64,\n",
        "        epochs=50,\n",
        "        validation_data=validation_generator,\n",
        "        validation_steps=7178 // 64)"
      ]
    },
    {
      "cell_type": "code",
      "execution_count": 38,
      "metadata": {
        "id": "WW0RVlNFwc57"
      },
      "outputs": [],
      "source": [
        "# save model structure in jason file\n",
        "model_json = emotion_model.to_json()\n",
        "with open(\"/content/emotion_model.json\", \"w\") as json_file:\n",
        "    json_file.write(model_json)"
      ]
    },
    {
      "cell_type": "code",
      "execution_count": 39,
      "metadata": {
        "id": "YavAcpTTwiEx"
      },
      "outputs": [],
      "source": [
        "# save trained model weight in .h5 file\n",
        "emotion_model.save_weights('/content/emotion_model.h5')"
      ]
    },
    {
      "cell_type": "code",
      "execution_count": 39,
      "metadata": {
        "id": "Oc84y5Wk3yvf"
      },
      "outputs": [],
      "source": []
    },
    {
      "cell_type": "code",
      "execution_count": 40,
      "metadata": {
        "id": "UhlvB96myPTR"
      },
      "outputs": [],
      "source": [
        "# test code start from below for testing run only below files and library files"
      ]
    },
    {
      "cell_type": "code",
      "execution_count": 40,
      "metadata": {
        "id": "Bb6zZrtb3yUQ"
      },
      "outputs": [],
      "source": []
    },
    {
      "cell_type": "code",
      "execution_count": 41,
      "metadata": {
        "id": "LeEuAlSDybZy"
      },
      "outputs": [],
      "source": [
        "emotion_dict = {0: \"Angry\", 1: \"Disgusted\", 2: \"Fearful\", 3: \"Happy\", 4: \"Neutral\", 5: \"Sad\", 6: \"Surprised\"}"
      ]
    },
    {
      "cell_type": "code",
      "execution_count": 42,
      "metadata": {
        "id": "us7TS5XizLDf"
      },
      "outputs": [],
      "source": [
        "# load json and create model\n",
        "json_file = open('/content/emotion_model.json', 'r')\n",
        "\n",
        "loaded_model_json = json_file.read()\n",
        "json_file.close()\n",
        "emotion_model = model_from_json(loaded_model_json)"
      ]
    },
    {
      "cell_type": "code",
      "execution_count": 43,
      "metadata": {
        "colab": {
          "base_uri": "https://localhost:8080/"
        },
        "id": "OItXRkzJzNvt",
        "outputId": "f4179246-1b6c-4848-b1ee-5c61ae74ac78"
      },
      "outputs": [
        {
          "output_type": "stream",
          "name": "stdout",
          "text": [
            "Loaded model from disk\n"
          ]
        }
      ],
      "source": [
        "# load weights into new model\n",
        "emotion_model.load_weights(\"/content/emotion_model.h5\")\n",
        "print(\"Loaded model from disk\")"
      ]
    },
    {
      "cell_type": "code",
      "execution_count": 43,
      "metadata": {
        "id": "KuDsklXZzQZM"
      },
      "outputs": [],
      "source": []
    },
    {
      "cell_type": "code",
      "execution_count": 44,
      "metadata": {
        "colab": {
          "base_uri": "https://localhost:8080/"
        },
        "id": "y24F0rr-zVqx",
        "outputId": "81875af3-2839-4928-f695-c17e09ed2ad4"
      },
      "outputs": [
        {
          "output_type": "stream",
          "name": "stdout",
          "text": [
            "1/1 [==============================] - 0s 127ms/step\n",
            "1/1 [==============================] - 0s 24ms/step\n",
            "1/1 [==============================] - 0s 29ms/step\n",
            "1/1 [==============================] - 0s 26ms/step\n",
            "1/1 [==============================] - 0s 38ms/step\n",
            "1/1 [==============================] - 0s 27ms/step\n",
            "1/1 [==============================] - 0s 25ms/step\n",
            "1/1 [==============================] - 0s 28ms/step\n",
            "1/1 [==============================] - 0s 25ms/step\n",
            "1/1 [==============================] - 0s 29ms/step\n",
            "1/1 [==============================] - 0s 25ms/step\n",
            "1/1 [==============================] - 0s 25ms/step\n",
            "1/1 [==============================] - 0s 30ms/step\n",
            "1/1 [==============================] - 0s 29ms/step\n",
            "1/1 [==============================] - 0s 27ms/step\n",
            "1/1 [==============================] - 0s 26ms/step\n",
            "1/1 [==============================] - 0s 27ms/step\n",
            "1/1 [==============================] - 0s 32ms/step\n",
            "1/1 [==============================] - 0s 26ms/step\n",
            "1/1 [==============================] - 0s 25ms/step\n",
            "1/1 [==============================] - 0s 28ms/step\n",
            "1/1 [==============================] - 0s 26ms/step\n",
            "1/1 [==============================] - 0s 29ms/step\n",
            "1/1 [==============================] - 0s 32ms/step\n",
            "1/1 [==============================] - 0s 27ms/step\n",
            "1/1 [==============================] - 0s 26ms/step\n",
            "1/1 [==============================] - 0s 25ms/step\n",
            "1/1 [==============================] - 0s 23ms/step\n",
            "1/1 [==============================] - 0s 26ms/step\n",
            "1/1 [==============================] - 0s 24ms/step\n",
            "1/1 [==============================] - 0s 17ms/step\n",
            "1/1 [==============================] - 0s 16ms/step\n",
            "1/1 [==============================] - 0s 18ms/step\n",
            "1/1 [==============================] - 0s 17ms/step\n",
            "1/1 [==============================] - 0s 17ms/step\n",
            "1/1 [==============================] - 0s 19ms/step\n",
            "1/1 [==============================] - 0s 16ms/step\n",
            "1/1 [==============================] - 0s 17ms/step\n",
            "1/1 [==============================] - 0s 21ms/step\n",
            "1/1 [==============================] - 0s 18ms/step\n",
            "1/1 [==============================] - 0s 17ms/step\n",
            "1/1 [==============================] - 0s 17ms/step\n",
            "1/1 [==============================] - 0s 18ms/step\n",
            "1/1 [==============================] - 0s 19ms/step\n",
            "1/1 [==============================] - 0s 16ms/step\n",
            "1/1 [==============================] - 0s 20ms/step\n",
            "1/1 [==============================] - 0s 18ms/step\n",
            "1/1 [==============================] - 0s 17ms/step\n",
            "1/1 [==============================] - 0s 18ms/step\n",
            "1/1 [==============================] - 0s 17ms/step\n",
            "1/1 [==============================] - 0s 17ms/step\n",
            "1/1 [==============================] - 0s 16ms/step\n",
            "1/1 [==============================] - 0s 19ms/step\n",
            "1/1 [==============================] - 0s 19ms/step\n",
            "1/1 [==============================] - 0s 16ms/step\n",
            "1/1 [==============================] - 0s 20ms/step\n",
            "1/1 [==============================] - 0s 19ms/step\n",
            "1/1 [==============================] - 0s 18ms/step\n",
            "1/1 [==============================] - 0s 17ms/step\n",
            "1/1 [==============================] - 0s 18ms/step\n",
            "1/1 [==============================] - 0s 18ms/step\n",
            "1/1 [==============================] - 0s 17ms/step\n",
            "1/1 [==============================] - 0s 21ms/step\n",
            "1/1 [==============================] - 0s 17ms/step\n",
            "1/1 [==============================] - 0s 18ms/step\n",
            "1/1 [==============================] - 0s 20ms/step\n",
            "1/1 [==============================] - 0s 18ms/step\n",
            "1/1 [==============================] - 0s 18ms/step\n",
            "1/1 [==============================] - 0s 17ms/step\n",
            "1/1 [==============================] - 0s 17ms/step\n",
            "1/1 [==============================] - 0s 17ms/step\n",
            "1/1 [==============================] - 0s 17ms/step\n",
            "1/1 [==============================] - 0s 17ms/step\n",
            "1/1 [==============================] - 0s 21ms/step\n",
            "1/1 [==============================] - 0s 17ms/step\n",
            "1/1 [==============================] - 0s 17ms/step\n",
            "1/1 [==============================] - 0s 19ms/step\n",
            "1/1 [==============================] - 0s 19ms/step\n",
            "1/1 [==============================] - 0s 17ms/step\n",
            "1/1 [==============================] - 0s 20ms/step\n",
            "1/1 [==============================] - 0s 19ms/step\n",
            "1/1 [==============================] - 0s 18ms/step\n",
            "1/1 [==============================] - 0s 16ms/step\n",
            "1/1 [==============================] - 0s 16ms/step\n",
            "1/1 [==============================] - 0s 17ms/step\n",
            "1/1 [==============================] - 0s 17ms/step\n",
            "1/1 [==============================] - 0s 18ms/step\n",
            "1/1 [==============================] - 0s 19ms/step\n",
            "1/1 [==============================] - 0s 19ms/step\n",
            "1/1 [==============================] - 0s 26ms/step\n",
            "1/1 [==============================] - 0s 17ms/step\n",
            "1/1 [==============================] - 0s 19ms/step\n",
            "1/1 [==============================] - 0s 17ms/step\n",
            "1/1 [==============================] - 0s 18ms/step\n",
            "1/1 [==============================] - 0s 18ms/step\n",
            "1/1 [==============================] - 0s 18ms/step\n",
            "1/1 [==============================] - 0s 19ms/step\n",
            "1/1 [==============================] - 0s 20ms/step\n",
            "1/1 [==============================] - 0s 16ms/step\n",
            "1/1 [==============================] - 0s 18ms/step\n",
            "1/1 [==============================] - 0s 18ms/step\n",
            "1/1 [==============================] - 0s 20ms/step\n",
            "1/1 [==============================] - 0s 19ms/step\n",
            "1/1 [==============================] - 0s 18ms/step\n",
            "1/1 [==============================] - 0s 20ms/step\n",
            "1/1 [==============================] - 0s 19ms/step\n",
            "1/1 [==============================] - 0s 19ms/step\n",
            "1/1 [==============================] - 0s 25ms/step\n",
            "1/1 [==============================] - 0s 32ms/step\n",
            "1/1 [==============================] - 0s 28ms/step\n",
            "1/1 [==============================] - 0s 28ms/step\n",
            "1/1 [==============================] - 0s 28ms/step\n",
            "1/1 [==============================] - 0s 35ms/step\n",
            "1/1 [==============================] - 0s 31ms/step\n",
            "1/1 [==============================] - 0s 32ms/step\n",
            "1/1 [==============================] - 0s 30ms/step\n",
            "1/1 [==============================] - 0s 35ms/step\n",
            "1/1 [==============================] - 0s 31ms/step\n",
            "1/1 [==============================] - 0s 29ms/step\n",
            "1/1 [==============================] - 0s 30ms/step\n",
            "1/1 [==============================] - 0s 29ms/step\n",
            "1/1 [==============================] - 0s 32ms/step\n",
            "1/1 [==============================] - 0s 33ms/step\n",
            "1/1 [==============================] - 0s 29ms/step\n",
            "1/1 [==============================] - 0s 28ms/step\n",
            "1/1 [==============================] - 0s 33ms/step\n",
            "1/1 [==============================] - 0s 36ms/step\n",
            "1/1 [==============================] - 0s 30ms/step\n",
            "1/1 [==============================] - 0s 32ms/step\n",
            "1/1 [==============================] - 0s 31ms/step\n",
            "1/1 [==============================] - 0s 29ms/step\n",
            "1/1 [==============================] - 0s 33ms/step\n",
            "1/1 [==============================] - 0s 36ms/step\n",
            "1/1 [==============================] - 0s 30ms/step\n",
            "1/1 [==============================] - 0s 35ms/step\n",
            "1/1 [==============================] - 0s 22ms/step\n",
            "1/1 [==============================] - 0s 21ms/step\n",
            "1/1 [==============================] - 0s 20ms/step\n",
            "1/1 [==============================] - 0s 21ms/step\n",
            "1/1 [==============================] - 0s 21ms/step\n",
            "1/1 [==============================] - 0s 19ms/step\n",
            "1/1 [==============================] - 0s 18ms/step\n",
            "1/1 [==============================] - 0s 19ms/step\n",
            "1/1 [==============================] - 0s 19ms/step\n",
            "1/1 [==============================] - 0s 18ms/step\n",
            "1/1 [==============================] - 0s 21ms/step\n",
            "1/1 [==============================] - 0s 21ms/step\n",
            "1/1 [==============================] - 0s 23ms/step\n",
            "1/1 [==============================] - 0s 19ms/step\n",
            "1/1 [==============================] - 0s 19ms/step\n",
            "1/1 [==============================] - 0s 21ms/step\n",
            "1/1 [==============================] - 0s 19ms/step\n",
            "1/1 [==============================] - 0s 22ms/step\n",
            "1/1 [==============================] - 0s 22ms/step\n",
            "1/1 [==============================] - 0s 20ms/step\n",
            "1/1 [==============================] - 0s 22ms/step\n",
            "1/1 [==============================] - 0s 22ms/step\n",
            "1/1 [==============================] - 0s 19ms/step\n",
            "1/1 [==============================] - 0s 19ms/step\n",
            "1/1 [==============================] - 0s 18ms/step\n",
            "1/1 [==============================] - 0s 19ms/step\n",
            "1/1 [==============================] - 0s 19ms/step\n",
            "1/1 [==============================] - 0s 20ms/step\n",
            "1/1 [==============================] - 0s 19ms/step\n",
            "1/1 [==============================] - 0s 20ms/step\n",
            "1/1 [==============================] - 0s 21ms/step\n",
            "1/1 [==============================] - 0s 21ms/step\n",
            "1/1 [==============================] - 0s 18ms/step\n",
            "1/1 [==============================] - 0s 19ms/step\n",
            "1/1 [==============================] - 0s 18ms/step\n",
            "1/1 [==============================] - 0s 21ms/step\n",
            "1/1 [==============================] - 0s 19ms/step\n",
            "1/1 [==============================] - 0s 20ms/step\n",
            "1/1 [==============================] - 0s 19ms/step\n",
            "1/1 [==============================] - 0s 18ms/step\n",
            "1/1 [==============================] - 0s 18ms/step\n",
            "1/1 [==============================] - 0s 18ms/step\n",
            "1/1 [==============================] - 0s 18ms/step\n",
            "1/1 [==============================] - 0s 17ms/step\n",
            "1/1 [==============================] - 0s 19ms/step\n",
            "1/1 [==============================] - 0s 17ms/step\n",
            "1/1 [==============================] - 0s 21ms/step\n",
            "1/1 [==============================] - 0s 19ms/step\n",
            "1/1 [==============================] - 0s 18ms/step\n",
            "1/1 [==============================] - 0s 20ms/step\n",
            "1/1 [==============================] - 0s 17ms/step\n",
            "1/1 [==============================] - 0s 17ms/step\n",
            "1/1 [==============================] - 0s 18ms/step\n",
            "1/1 [==============================] - 0s 17ms/step\n",
            "1/1 [==============================] - 0s 20ms/step\n",
            "1/1 [==============================] - 0s 18ms/step\n",
            "1/1 [==============================] - 0s 17ms/step\n",
            "1/1 [==============================] - 0s 18ms/step\n",
            "1/1 [==============================] - 0s 17ms/step\n",
            "1/1 [==============================] - 0s 20ms/step\n",
            "1/1 [==============================] - 0s 17ms/step\n",
            "1/1 [==============================] - 0s 16ms/step\n",
            "1/1 [==============================] - 0s 19ms/step\n",
            "1/1 [==============================] - 0s 17ms/step\n",
            "1/1 [==============================] - 0s 22ms/step\n",
            "1/1 [==============================] - 0s 19ms/step\n",
            "1/1 [==============================] - 0s 17ms/step\n",
            "1/1 [==============================] - 0s 20ms/step\n",
            "1/1 [==============================] - 0s 18ms/step\n",
            "1/1 [==============================] - 0s 17ms/step\n",
            "1/1 [==============================] - 0s 35ms/step\n",
            "1/1 [==============================] - 0s 25ms/step\n",
            "1/1 [==============================] - 0s 25ms/step\n",
            "1/1 [==============================] - 0s 25ms/step\n",
            "1/1 [==============================] - 0s 29ms/step\n",
            "1/1 [==============================] - 0s 24ms/step\n",
            "1/1 [==============================] - 0s 26ms/step\n",
            "1/1 [==============================] - 0s 31ms/step\n",
            "1/1 [==============================] - 0s 25ms/step\n",
            "1/1 [==============================] - 0s 25ms/step\n",
            "1/1 [==============================] - 0s 24ms/step\n",
            "1/1 [==============================] - 0s 25ms/step\n",
            "1/1 [==============================] - 0s 25ms/step\n",
            "1/1 [==============================] - 0s 27ms/step\n",
            "1/1 [==============================] - 0s 28ms/step\n",
            "1/1 [==============================] - 0s 27ms/step\n",
            "1/1 [==============================] - 0s 28ms/step\n",
            "1/1 [==============================] - 0s 26ms/step\n",
            "1/1 [==============================] - 0s 29ms/step\n",
            "1/1 [==============================] - 0s 27ms/step\n",
            "1/1 [==============================] - 0s 27ms/step\n",
            "1/1 [==============================] - 0s 32ms/step\n",
            "1/1 [==============================] - 0s 26ms/step\n",
            "1/1 [==============================] - 0s 26ms/step\n",
            "1/1 [==============================] - 0s 28ms/step\n",
            "1/1 [==============================] - 0s 25ms/step\n",
            "1/1 [==============================] - 0s 25ms/step\n",
            "1/1 [==============================] - 0s 37ms/step\n",
            "1/1 [==============================] - 0s 26ms/step\n",
            "1/1 [==============================] - 0s 25ms/step\n",
            "1/1 [==============================] - 0s 26ms/step\n",
            "1/1 [==============================] - 0s 17ms/step\n",
            "1/1 [==============================] - 0s 19ms/step\n",
            "1/1 [==============================] - 0s 17ms/step\n",
            "1/1 [==============================] - 0s 19ms/step\n",
            "1/1 [==============================] - 0s 17ms/step\n",
            "1/1 [==============================] - 0s 17ms/step\n",
            "1/1 [==============================] - 0s 17ms/step\n",
            "1/1 [==============================] - 0s 16ms/step\n",
            "1/1 [==============================] - 0s 17ms/step\n",
            "1/1 [==============================] - 0s 18ms/step\n",
            "1/1 [==============================] - 0s 17ms/step\n",
            "1/1 [==============================] - 0s 18ms/step\n",
            "1/1 [==============================] - 0s 17ms/step\n",
            "1/1 [==============================] - 0s 17ms/step\n",
            "1/1 [==============================] - 0s 22ms/step\n",
            "1/1 [==============================] - 0s 16ms/step\n",
            "1/1 [==============================] - 0s 19ms/step\n",
            "1/1 [==============================] - 0s 19ms/step\n",
            "1/1 [==============================] - 0s 17ms/step\n",
            "1/1 [==============================] - 0s 18ms/step\n",
            "1/1 [==============================] - 0s 17ms/step\n",
            "1/1 [==============================] - 0s 18ms/step\n",
            "1/1 [==============================] - 0s 17ms/step\n",
            "1/1 [==============================] - 0s 18ms/step\n",
            "1/1 [==============================] - 0s 19ms/step\n",
            "1/1 [==============================] - 0s 17ms/step\n",
            "1/1 [==============================] - 0s 19ms/step\n",
            "1/1 [==============================] - 0s 17ms/step\n"
          ]
        }
      ],
      "source": [
        "# Open the input video\n",
        "input_path = \"/content/drive/MyDrive/Video/EMOO.mp4\"\n",
        "cap = cv2.VideoCapture(input_path)\n",
        "\n",
        "# Get video properties\n",
        "width = int(cap.get(cv2.CAP_PROP_FRAME_WIDTH))\n",
        "height = int(cap.get(cv2.CAP_PROP_FRAME_HEIGHT))\n",
        "fps = int(cap.get(cv2.CAP_PROP_FPS))\n",
        "\n",
        "# Define the codec and create VideoWriter object to save the output video\n",
        "output_path = '/content/drive/MyDrive/Video/EMOO_with_predictions.mp4'\n",
        "fourcc = cv2.VideoWriter_fourcc(*'XVID')\n",
        "out = cv2.VideoWriter(output_path, fourcc, fps, (width, height))\n",
        "\n",
        "# Haar cascade for face detection\n",
        "face_detector = cv2.CascadeClassifier('/content/drive/MyDrive/haarcascades/haarcascade_frontalface_default.xml')\n",
        "\n",
        "while True:\n",
        "    ret, frame = cap.read()\n",
        "\n",
        "    if not ret:\n",
        "        break\n",
        "\n",
        "    frame = cv2.resize(frame, (1280, 720))\n",
        "    gray_frame = cv2.cvtColor(frame, cv2.COLOR_BGR2GRAY)\n",
        "\n",
        "    # Detect faces\n",
        "    num_faces = face_detector.detectMultiScale(gray_frame, scaleFactor=1.3, minNeighbors=5)\n",
        "\n",
        "    # Process each detected face\n",
        "    for (x, y, w, h) in num_faces:\n",
        "        cv2.rectangle(frame, (x, y - 50), (x + w, y + h + 10), (0, 255, 0), 4)\n",
        "        roi_gray_frame = gray_frame[y:y + h, x:x + w]\n",
        "        cropped_img = np.expand_dims(np.expand_dims(cv2.resize(roi_gray_frame, (48, 48)), -1), 0)\n",
        "\n",
        "        # Predict emotions\n",
        "        emotion_prediction = emotion_model.predict(cropped_img)\n",
        "        maxindex = int(np.argmax(emotion_prediction))\n",
        "        cv2.putText(frame, emotion_dict[maxindex], (x + 5, y - 20), cv2.FONT_HERSHEY_SIMPLEX, 1, (255, 0, 0), 2, cv2.LINE_AA)\n",
        "\n",
        "    # Write the frame with annotations to the output video\n",
        "    out.write(frame)\n",
        "\n",
        "\n",
        "    if cv2.waitKey(1) & 0xFF == ord('q'):\n",
        "        break\n",
        "\n",
        "# Release the video capture and writer objects\n",
        "cap.release()\n",
        "out.release()\n",
        "\n",
        "# Destroy any OpenCV windows\n",
        "cv2.destroyAllWindows()\n"
      ]
    },
    {
      "cell_type": "code",
      "execution_count": 44,
      "metadata": {
        "id": "ARlvCMcIzYoE"
      },
      "outputs": [],
      "source": []
    }
  ],
  "metadata": {
    "accelerator": "GPU",
    "colab": {
      "provenance": [],
      "mount_file_id": "1Z90pJSOJvZcnzwf81t34VEw6YZN_Vsv8",
      "authorship_tag": "ABX9TyP7W4cnqEdcBsG52s2KbgIr",
      "include_colab_link": true
    },
    "kernelspec": {
      "display_name": "Python 3",
      "name": "python3"
    },
    "language_info": {
      "name": "python"
    }
  },
  "nbformat": 4,
  "nbformat_minor": 0
}